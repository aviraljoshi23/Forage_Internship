{
  "nbformat": 4,
  "nbformat_minor": 0,
  "metadata": {
    "colab": {
      "name": "Data@ANZ-Task2.ipynb",
      "provenance": [],
      "collapsed_sections": [],
      "authorship_tag": "ABX9TyOS7x54vPFkicaFZiqoALXe"
    },
    "kernelspec": {
      "name": "python3",
      "display_name": "Python 3"
    },
    "language_info": {
      "name": "python"
    }
  },
  "cells": [
    {
      "cell_type": "markdown",
      "metadata": {
        "id": "0AuZG6y0h9fO"
      },
      "source": [
        "![image.png](data:image/png;base64,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)"
      ]
    },
    {
      "cell_type": "markdown",
      "metadata": {
        "id": "m5PHAnWI-ibH"
      },
      "source": [
        "#Task 2\n",
        "\n",
        "---\n",
        "\n"
      ]
    },
    {
      "cell_type": "markdown",
      "metadata": {
        "id": "Cs14FIl--Wqo"
      },
      "source": [
        "#**Predictive Analytics**\n",
        "Explore correlations between customer attributes, build a regression and a decision-tree prediction model based on your findings."
      ]
    },
    {
      "cell_type": "markdown",
      "metadata": {
        "id": "zRAzC6T99AHI"
      },
      "source": [
        "#Importing the libraries\n",
        "\n",
        "---\n",
        "\n"
      ]
    },
    {
      "cell_type": "code",
      "metadata": {
        "id": "yN48_aU8GciT"
      },
      "source": [
        "import pandas as pd\n",
        "import numpy as np\n",
        "import matplotlib.pyplot as plt\n",
        "import seaborn as sns\n",
        "from statistics import mode,mean,median\n",
        "\n",
        "#Machine Learning libraries\n",
        "from sklearn.model_selection import train_test_split\n",
        "from sklearn.linear_model import LinearRegression\n",
        "from sklearn.tree import DecisionTreeRegressor\n",
        "from sklearn.metrics import mean_squared_error,r2_score\n",
        "from sklearn.preprocessing import OneHotEncoder, StandardScaler"
      ],
      "execution_count": 201,
      "outputs": []
    },
    {
      "cell_type": "code",
      "metadata": {
        "colab": {
          "base_uri": "https://localhost:8080/",
          "height": 480
        },
        "id": "k8zzO4GT98yn",
        "outputId": "5edd78ad-4098-47bc-a9bf-6a3b673a0e0a"
      },
      "source": [
        "#Reading the Excel data\n",
        "data = pd.read_excel('/content/ANZ synthesised transaction dataset.xlsx')\n",
        "data.head()"
      ],
      "execution_count": 145,
      "outputs": [
        {
          "output_type": "execute_result",
          "data": {
            "text/html": [
              "<div>\n",
              "<style scoped>\n",
              "    .dataframe tbody tr th:only-of-type {\n",
              "        vertical-align: middle;\n",
              "    }\n",
              "\n",
              "    .dataframe tbody tr th {\n",
              "        vertical-align: top;\n",
              "    }\n",
              "\n",
              "    .dataframe thead th {\n",
              "        text-align: right;\n",
              "    }\n",
              "</style>\n",
              "<table border=\"1\" class=\"dataframe\">\n",
              "  <thead>\n",
              "    <tr style=\"text-align: right;\">\n",
              "      <th></th>\n",
              "      <th>status</th>\n",
              "      <th>card_present_flag</th>\n",
              "      <th>bpay_biller_code</th>\n",
              "      <th>account</th>\n",
              "      <th>currency</th>\n",
              "      <th>long_lat</th>\n",
              "      <th>txn_description</th>\n",
              "      <th>merchant_id</th>\n",
              "      <th>merchant_code</th>\n",
              "      <th>first_name</th>\n",
              "      <th>balance</th>\n",
              "      <th>date</th>\n",
              "      <th>gender</th>\n",
              "      <th>age</th>\n",
              "      <th>merchant_suburb</th>\n",
              "      <th>merchant_state</th>\n",
              "      <th>extraction</th>\n",
              "      <th>amount</th>\n",
              "      <th>transaction_id</th>\n",
              "      <th>country</th>\n",
              "      <th>customer_id</th>\n",
              "      <th>merchant_long_lat</th>\n",
              "      <th>movement</th>\n",
              "    </tr>\n",
              "  </thead>\n",
              "  <tbody>\n",
              "    <tr>\n",
              "      <th>0</th>\n",
              "      <td>authorized</td>\n",
              "      <td>1.0</td>\n",
              "      <td>NaN</td>\n",
              "      <td>ACC-1598451071</td>\n",
              "      <td>AUD</td>\n",
              "      <td>153.41 -27.95</td>\n",
              "      <td>POS</td>\n",
              "      <td>81c48296-73be-44a7-befa-d053f48ce7cd</td>\n",
              "      <td>NaN</td>\n",
              "      <td>Diana</td>\n",
              "      <td>35.39</td>\n",
              "      <td>2018-08-01</td>\n",
              "      <td>F</td>\n",
              "      <td>26</td>\n",
              "      <td>Ashmore</td>\n",
              "      <td>QLD</td>\n",
              "      <td>2018-08-01T01:01:15.000+0000</td>\n",
              "      <td>16.25</td>\n",
              "      <td>a623070bfead4541a6b0fff8a09e706c</td>\n",
              "      <td>Australia</td>\n",
              "      <td>CUS-2487424745</td>\n",
              "      <td>153.38 -27.99</td>\n",
              "      <td>debit</td>\n",
              "    </tr>\n",
              "    <tr>\n",
              "      <th>1</th>\n",
              "      <td>authorized</td>\n",
              "      <td>0.0</td>\n",
              "      <td>NaN</td>\n",
              "      <td>ACC-1598451071</td>\n",
              "      <td>AUD</td>\n",
              "      <td>153.41 -27.95</td>\n",
              "      <td>SALES-POS</td>\n",
              "      <td>830a451c-316e-4a6a-bf25-e37caedca49e</td>\n",
              "      <td>NaN</td>\n",
              "      <td>Diana</td>\n",
              "      <td>21.20</td>\n",
              "      <td>2018-08-01</td>\n",
              "      <td>F</td>\n",
              "      <td>26</td>\n",
              "      <td>Sydney</td>\n",
              "      <td>NSW</td>\n",
              "      <td>2018-08-01T01:13:45.000+0000</td>\n",
              "      <td>14.19</td>\n",
              "      <td>13270a2a902145da9db4c951e04b51b9</td>\n",
              "      <td>Australia</td>\n",
              "      <td>CUS-2487424745</td>\n",
              "      <td>151.21 -33.87</td>\n",
              "      <td>debit</td>\n",
              "    </tr>\n",
              "    <tr>\n",
              "      <th>2</th>\n",
              "      <td>authorized</td>\n",
              "      <td>1.0</td>\n",
              "      <td>NaN</td>\n",
              "      <td>ACC-1222300524</td>\n",
              "      <td>AUD</td>\n",
              "      <td>151.23 -33.94</td>\n",
              "      <td>POS</td>\n",
              "      <td>835c231d-8cdf-4e96-859d-e9d571760cf0</td>\n",
              "      <td>NaN</td>\n",
              "      <td>Michael</td>\n",
              "      <td>5.71</td>\n",
              "      <td>2018-08-01</td>\n",
              "      <td>M</td>\n",
              "      <td>38</td>\n",
              "      <td>Sydney</td>\n",
              "      <td>NSW</td>\n",
              "      <td>2018-08-01T01:26:15.000+0000</td>\n",
              "      <td>6.42</td>\n",
              "      <td>feb79e7ecd7048a5a36ec889d1a94270</td>\n",
              "      <td>Australia</td>\n",
              "      <td>CUS-2142601169</td>\n",
              "      <td>151.21 -33.87</td>\n",
              "      <td>debit</td>\n",
              "    </tr>\n",
              "    <tr>\n",
              "      <th>3</th>\n",
              "      <td>authorized</td>\n",
              "      <td>1.0</td>\n",
              "      <td>NaN</td>\n",
              "      <td>ACC-1037050564</td>\n",
              "      <td>AUD</td>\n",
              "      <td>153.10 -27.66</td>\n",
              "      <td>SALES-POS</td>\n",
              "      <td>48514682-c78a-4a88-b0da-2d6302e64673</td>\n",
              "      <td>NaN</td>\n",
              "      <td>Rhonda</td>\n",
              "      <td>2117.22</td>\n",
              "      <td>2018-08-01</td>\n",
              "      <td>F</td>\n",
              "      <td>40</td>\n",
              "      <td>Buderim</td>\n",
              "      <td>QLD</td>\n",
              "      <td>2018-08-01T01:38:45.000+0000</td>\n",
              "      <td>40.90</td>\n",
              "      <td>2698170da3704fd981b15e64a006079e</td>\n",
              "      <td>Australia</td>\n",
              "      <td>CUS-1614226872</td>\n",
              "      <td>153.05 -26.68</td>\n",
              "      <td>debit</td>\n",
              "    </tr>\n",
              "    <tr>\n",
              "      <th>4</th>\n",
              "      <td>authorized</td>\n",
              "      <td>1.0</td>\n",
              "      <td>NaN</td>\n",
              "      <td>ACC-1598451071</td>\n",
              "      <td>AUD</td>\n",
              "      <td>153.41 -27.95</td>\n",
              "      <td>SALES-POS</td>\n",
              "      <td>b4e02c10-0852-4273-b8fd-7b3395e32eb0</td>\n",
              "      <td>NaN</td>\n",
              "      <td>Diana</td>\n",
              "      <td>17.95</td>\n",
              "      <td>2018-08-01</td>\n",
              "      <td>F</td>\n",
              "      <td>26</td>\n",
              "      <td>Mermaid Beach</td>\n",
              "      <td>QLD</td>\n",
              "      <td>2018-08-01T01:51:15.000+0000</td>\n",
              "      <td>3.25</td>\n",
              "      <td>329adf79878c4cf0aeb4188b4691c266</td>\n",
              "      <td>Australia</td>\n",
              "      <td>CUS-2487424745</td>\n",
              "      <td>153.44 -28.06</td>\n",
              "      <td>debit</td>\n",
              "    </tr>\n",
              "  </tbody>\n",
              "</table>\n",
              "</div>"
            ],
            "text/plain": [
              "       status  card_present_flag  ... merchant_long_lat movement\n",
              "0  authorized                1.0  ...     153.38 -27.99    debit\n",
              "1  authorized                0.0  ...     151.21 -33.87    debit\n",
              "2  authorized                1.0  ...     151.21 -33.87    debit\n",
              "3  authorized                1.0  ...     153.05 -26.68    debit\n",
              "4  authorized                1.0  ...     153.44 -28.06    debit\n",
              "\n",
              "[5 rows x 23 columns]"
            ]
          },
          "metadata": {
            "tags": []
          },
          "execution_count": 145
        }
      ]
    },
    {
      "cell_type": "code",
      "metadata": {
        "colab": {
          "base_uri": "https://localhost:8080/",
          "height": 763
        },
        "id": "QIvuVz3u98wm",
        "outputId": "02ec0f41-6c41-48ea-edb2-2bba1f36996d"
      },
      "source": [
        "pd.DataFrame({\"Columns\": data.columns})"
      ],
      "execution_count": 146,
      "outputs": [
        {
          "output_type": "execute_result",
          "data": {
            "text/html": [
              "<div>\n",
              "<style scoped>\n",
              "    .dataframe tbody tr th:only-of-type {\n",
              "        vertical-align: middle;\n",
              "    }\n",
              "\n",
              "    .dataframe tbody tr th {\n",
              "        vertical-align: top;\n",
              "    }\n",
              "\n",
              "    .dataframe thead th {\n",
              "        text-align: right;\n",
              "    }\n",
              "</style>\n",
              "<table border=\"1\" class=\"dataframe\">\n",
              "  <thead>\n",
              "    <tr style=\"text-align: right;\">\n",
              "      <th></th>\n",
              "      <th>Columns</th>\n",
              "    </tr>\n",
              "  </thead>\n",
              "  <tbody>\n",
              "    <tr>\n",
              "      <th>0</th>\n",
              "      <td>status</td>\n",
              "    </tr>\n",
              "    <tr>\n",
              "      <th>1</th>\n",
              "      <td>card_present_flag</td>\n",
              "    </tr>\n",
              "    <tr>\n",
              "      <th>2</th>\n",
              "      <td>bpay_biller_code</td>\n",
              "    </tr>\n",
              "    <tr>\n",
              "      <th>3</th>\n",
              "      <td>account</td>\n",
              "    </tr>\n",
              "    <tr>\n",
              "      <th>4</th>\n",
              "      <td>currency</td>\n",
              "    </tr>\n",
              "    <tr>\n",
              "      <th>5</th>\n",
              "      <td>long_lat</td>\n",
              "    </tr>\n",
              "    <tr>\n",
              "      <th>6</th>\n",
              "      <td>txn_description</td>\n",
              "    </tr>\n",
              "    <tr>\n",
              "      <th>7</th>\n",
              "      <td>merchant_id</td>\n",
              "    </tr>\n",
              "    <tr>\n",
              "      <th>8</th>\n",
              "      <td>merchant_code</td>\n",
              "    </tr>\n",
              "    <tr>\n",
              "      <th>9</th>\n",
              "      <td>first_name</td>\n",
              "    </tr>\n",
              "    <tr>\n",
              "      <th>10</th>\n",
              "      <td>balance</td>\n",
              "    </tr>\n",
              "    <tr>\n",
              "      <th>11</th>\n",
              "      <td>date</td>\n",
              "    </tr>\n",
              "    <tr>\n",
              "      <th>12</th>\n",
              "      <td>gender</td>\n",
              "    </tr>\n",
              "    <tr>\n",
              "      <th>13</th>\n",
              "      <td>age</td>\n",
              "    </tr>\n",
              "    <tr>\n",
              "      <th>14</th>\n",
              "      <td>merchant_suburb</td>\n",
              "    </tr>\n",
              "    <tr>\n",
              "      <th>15</th>\n",
              "      <td>merchant_state</td>\n",
              "    </tr>\n",
              "    <tr>\n",
              "      <th>16</th>\n",
              "      <td>extraction</td>\n",
              "    </tr>\n",
              "    <tr>\n",
              "      <th>17</th>\n",
              "      <td>amount</td>\n",
              "    </tr>\n",
              "    <tr>\n",
              "      <th>18</th>\n",
              "      <td>transaction_id</td>\n",
              "    </tr>\n",
              "    <tr>\n",
              "      <th>19</th>\n",
              "      <td>country</td>\n",
              "    </tr>\n",
              "    <tr>\n",
              "      <th>20</th>\n",
              "      <td>customer_id</td>\n",
              "    </tr>\n",
              "    <tr>\n",
              "      <th>21</th>\n",
              "      <td>merchant_long_lat</td>\n",
              "    </tr>\n",
              "    <tr>\n",
              "      <th>22</th>\n",
              "      <td>movement</td>\n",
              "    </tr>\n",
              "  </tbody>\n",
              "</table>\n",
              "</div>"
            ],
            "text/plain": [
              "              Columns\n",
              "0              status\n",
              "1   card_present_flag\n",
              "2    bpay_biller_code\n",
              "3             account\n",
              "4            currency\n",
              "5            long_lat\n",
              "6     txn_description\n",
              "7         merchant_id\n",
              "8       merchant_code\n",
              "9          first_name\n",
              "10            balance\n",
              "11               date\n",
              "12             gender\n",
              "13                age\n",
              "14    merchant_suburb\n",
              "15     merchant_state\n",
              "16         extraction\n",
              "17             amount\n",
              "18     transaction_id\n",
              "19            country\n",
              "20        customer_id\n",
              "21  merchant_long_lat\n",
              "22           movement"
            ]
          },
          "metadata": {
            "tags": []
          },
          "execution_count": 146
        }
      ]
    },
    {
      "cell_type": "code",
      "metadata": {
        "colab": {
          "base_uri": "https://localhost:8080/"
        },
        "id": "TxQThg5C98um",
        "outputId": "c3f412f7-8ea6-4c6a-9ced-c81fcc4f2d6e"
      },
      "source": [
        "data.info()"
      ],
      "execution_count": 147,
      "outputs": [
        {
          "output_type": "stream",
          "text": [
            "<class 'pandas.core.frame.DataFrame'>\n",
            "RangeIndex: 12043 entries, 0 to 12042\n",
            "Data columns (total 23 columns):\n",
            " #   Column             Non-Null Count  Dtype         \n",
            "---  ------             --------------  -----         \n",
            " 0   status             12043 non-null  object        \n",
            " 1   card_present_flag  7717 non-null   float64       \n",
            " 2   bpay_biller_code   885 non-null    object        \n",
            " 3   account            12043 non-null  object        \n",
            " 4   currency           12043 non-null  object        \n",
            " 5   long_lat           12043 non-null  object        \n",
            " 6   txn_description    12043 non-null  object        \n",
            " 7   merchant_id        7717 non-null   object        \n",
            " 8   merchant_code      883 non-null    float64       \n",
            " 9   first_name         12043 non-null  object        \n",
            " 10  balance            12043 non-null  float64       \n",
            " 11  date               12043 non-null  datetime64[ns]\n",
            " 12  gender             12043 non-null  object        \n",
            " 13  age                12043 non-null  int64         \n",
            " 14  merchant_suburb    7717 non-null   object        \n",
            " 15  merchant_state     7717 non-null   object        \n",
            " 16  extraction         12043 non-null  object        \n",
            " 17  amount             12043 non-null  float64       \n",
            " 18  transaction_id     12043 non-null  object        \n",
            " 19  country            12043 non-null  object        \n",
            " 20  customer_id        12043 non-null  object        \n",
            " 21  merchant_long_lat  7717 non-null   object        \n",
            " 22  movement           12043 non-null  object        \n",
            "dtypes: datetime64[ns](1), float64(4), int64(1), object(17)\n",
            "memory usage: 2.1+ MB\n"
          ],
          "name": "stdout"
        }
      ]
    },
    {
      "cell_type": "code",
      "metadata": {
        "colab": {
          "base_uri": "https://localhost:8080/"
        },
        "id": "VAQU9RSp98su",
        "outputId": "db17ca36-cb66-45b7-deeb-67ad39ecd275"
      },
      "source": [
        "data['txn_description'].unique()"
      ],
      "execution_count": 148,
      "outputs": [
        {
          "output_type": "execute_result",
          "data": {
            "text/plain": [
              "array(['POS', 'SALES-POS', 'PAYMENT', 'INTER BANK', 'PAY/SALARY',\n",
              "       'PHONE BANK'], dtype=object)"
            ]
          },
          "metadata": {
            "tags": []
          },
          "execution_count": 148
        }
      ]
    },
    {
      "cell_type": "code",
      "metadata": {
        "colab": {
          "base_uri": "https://localhost:8080/",
          "height": 204
        },
        "id": "vonoPEGJ98rC",
        "outputId": "bf704251-da46-47b2-cbe0-c837e7d20745"
      },
      "source": [
        "# Check the salary payment frequency of each customer\n",
        "salary_df = pd.DataFrame({\"customer_id\": data.customer_id.unique()})\n",
        "salary_df.head()"
      ],
      "execution_count": 149,
      "outputs": [
        {
          "output_type": "execute_result",
          "data": {
            "text/html": [
              "<div>\n",
              "<style scoped>\n",
              "    .dataframe tbody tr th:only-of-type {\n",
              "        vertical-align: middle;\n",
              "    }\n",
              "\n",
              "    .dataframe tbody tr th {\n",
              "        vertical-align: top;\n",
              "    }\n",
              "\n",
              "    .dataframe thead th {\n",
              "        text-align: right;\n",
              "    }\n",
              "</style>\n",
              "<table border=\"1\" class=\"dataframe\">\n",
              "  <thead>\n",
              "    <tr style=\"text-align: right;\">\n",
              "      <th></th>\n",
              "      <th>customer_id</th>\n",
              "    </tr>\n",
              "  </thead>\n",
              "  <tbody>\n",
              "    <tr>\n",
              "      <th>0</th>\n",
              "      <td>CUS-2487424745</td>\n",
              "    </tr>\n",
              "    <tr>\n",
              "      <th>1</th>\n",
              "      <td>CUS-2142601169</td>\n",
              "    </tr>\n",
              "    <tr>\n",
              "      <th>2</th>\n",
              "      <td>CUS-1614226872</td>\n",
              "    </tr>\n",
              "    <tr>\n",
              "      <th>3</th>\n",
              "      <td>CUS-2688605418</td>\n",
              "    </tr>\n",
              "    <tr>\n",
              "      <th>4</th>\n",
              "      <td>CUS-4123612273</td>\n",
              "    </tr>\n",
              "  </tbody>\n",
              "</table>\n",
              "</div>"
            ],
            "text/plain": [
              "      customer_id\n",
              "0  CUS-2487424745\n",
              "1  CUS-2142601169\n",
              "2  CUS-1614226872\n",
              "3  CUS-2688605418\n",
              "4  CUS-4123612273"
            ]
          },
          "metadata": {
            "tags": []
          },
          "execution_count": 149
        }
      ]
    },
    {
      "cell_type": "code",
      "metadata": {
        "colab": {
          "base_uri": "https://localhost:8080/",
          "height": 204
        },
        "id": "hkJ9I6bf98pP",
        "outputId": "9555050c-5d65-4438-8155-71bff53dc3c2"
      },
      "source": [
        "# Loop through all salary payments for each customer\n",
        "# Assume the salary level is constant for each customer over the observed period\n",
        "freq =[]\n",
        "df_amt=[]\n",
        "\n",
        "for i in range(len(salary_df)):\n",
        "  salary = data.loc[(data.customer_id == salary_df.customer_id[i]) & (data.txn_description == \"PAY/SALARY\"),['date','amount']].groupby('date',as_index = False).sum()\n",
        "  count = len(salary)\n",
        "  if count == 0:\n",
        "    freq.append(np.nan)\n",
        "    df_amt.append(np.nan)\n",
        "  else:\n",
        "      payment_days = []\n",
        "      for date in range(len(salary)-1):\n",
        "        payment_days.append((salary.date[date+1]-salary.date[date]).days)\n",
        "      freq.append(max(payment_days))\n",
        "      df_amt.append(mode(salary.amount))\n",
        "  \n",
        "salary_df['salary_freq'] = freq\n",
        "salary_df['salary_amount'] = df_amt\n",
        "salary_df['Annual_salary']= salary_df['salary_amount'] / salary_df['salary_freq'] * 365.25\n",
        "salary_df.head()"
      ],
      "execution_count": 150,
      "outputs": [
        {
          "output_type": "execute_result",
          "data": {
            "text/html": [
              "<div>\n",
              "<style scoped>\n",
              "    .dataframe tbody tr th:only-of-type {\n",
              "        vertical-align: middle;\n",
              "    }\n",
              "\n",
              "    .dataframe tbody tr th {\n",
              "        vertical-align: top;\n",
              "    }\n",
              "\n",
              "    .dataframe thead th {\n",
              "        text-align: right;\n",
              "    }\n",
              "</style>\n",
              "<table border=\"1\" class=\"dataframe\">\n",
              "  <thead>\n",
              "    <tr style=\"text-align: right;\">\n",
              "      <th></th>\n",
              "      <th>customer_id</th>\n",
              "      <th>salary_freq</th>\n",
              "      <th>salary_amount</th>\n",
              "      <th>Annual_salary</th>\n",
              "    </tr>\n",
              "  </thead>\n",
              "  <tbody>\n",
              "    <tr>\n",
              "      <th>0</th>\n",
              "      <td>CUS-2487424745</td>\n",
              "      <td>7</td>\n",
              "      <td>1013.67</td>\n",
              "      <td>52891.852500</td>\n",
              "    </tr>\n",
              "    <tr>\n",
              "      <th>1</th>\n",
              "      <td>CUS-2142601169</td>\n",
              "      <td>7</td>\n",
              "      <td>1002.13</td>\n",
              "      <td>52289.711786</td>\n",
              "    </tr>\n",
              "    <tr>\n",
              "      <th>2</th>\n",
              "      <td>CUS-1614226872</td>\n",
              "      <td>7</td>\n",
              "      <td>892.09</td>\n",
              "      <td>46547.981786</td>\n",
              "    </tr>\n",
              "    <tr>\n",
              "      <th>3</th>\n",
              "      <td>CUS-2688605418</td>\n",
              "      <td>14</td>\n",
              "      <td>2320.30</td>\n",
              "      <td>60534.969643</td>\n",
              "    </tr>\n",
              "    <tr>\n",
              "      <th>4</th>\n",
              "      <td>CUS-4123612273</td>\n",
              "      <td>7</td>\n",
              "      <td>1068.04</td>\n",
              "      <td>55728.801429</td>\n",
              "    </tr>\n",
              "  </tbody>\n",
              "</table>\n",
              "</div>"
            ],
            "text/plain": [
              "      customer_id  salary_freq  salary_amount  Annual_salary\n",
              "0  CUS-2487424745            7        1013.67   52891.852500\n",
              "1  CUS-2142601169            7        1002.13   52289.711786\n",
              "2  CUS-1614226872            7         892.09   46547.981786\n",
              "3  CUS-2688605418           14        2320.30   60534.969643\n",
              "4  CUS-4123612273            7        1068.04   55728.801429"
            ]
          },
          "metadata": {
            "tags": []
          },
          "execution_count": 150
        }
      ]
    },
    {
      "cell_type": "code",
      "metadata": {
        "id": "fzH9F8vs98mv",
        "colab": {
          "base_uri": "https://localhost:8080/",
          "height": 141
        },
        "outputId": "8cc79c97-2ce2-45ff-9ee1-51254abebc05"
      },
      "source": [
        "salary_df.corr()"
      ],
      "execution_count": 151,
      "outputs": [
        {
          "output_type": "execute_result",
          "data": {
            "text/html": [
              "<div>\n",
              "<style scoped>\n",
              "    .dataframe tbody tr th:only-of-type {\n",
              "        vertical-align: middle;\n",
              "    }\n",
              "\n",
              "    .dataframe tbody tr th {\n",
              "        vertical-align: top;\n",
              "    }\n",
              "\n",
              "    .dataframe thead th {\n",
              "        text-align: right;\n",
              "    }\n",
              "</style>\n",
              "<table border=\"1\" class=\"dataframe\">\n",
              "  <thead>\n",
              "    <tr style=\"text-align: right;\">\n",
              "      <th></th>\n",
              "      <th>salary_freq</th>\n",
              "      <th>salary_amount</th>\n",
              "      <th>Annual_salary</th>\n",
              "    </tr>\n",
              "  </thead>\n",
              "  <tbody>\n",
              "    <tr>\n",
              "      <th>salary_freq</th>\n",
              "      <td>1.000000</td>\n",
              "      <td>0.623567</td>\n",
              "      <td>-0.189054</td>\n",
              "    </tr>\n",
              "    <tr>\n",
              "      <th>salary_amount</th>\n",
              "      <td>0.623567</td>\n",
              "      <td>1.000000</td>\n",
              "      <td>0.533460</td>\n",
              "    </tr>\n",
              "    <tr>\n",
              "      <th>Annual_salary</th>\n",
              "      <td>-0.189054</td>\n",
              "      <td>0.533460</td>\n",
              "      <td>1.000000</td>\n",
              "    </tr>\n",
              "  </tbody>\n",
              "</table>\n",
              "</div>"
            ],
            "text/plain": [
              "               salary_freq  salary_amount  Annual_salary\n",
              "salary_freq       1.000000       0.623567      -0.189054\n",
              "salary_amount     0.623567       1.000000       0.533460\n",
              "Annual_salary    -0.189054       0.533460       1.000000"
            ]
          },
          "metadata": {
            "tags": []
          },
          "execution_count": 151
        }
      ]
    },
    {
      "cell_type": "code",
      "metadata": {
        "id": "phulHf8o98km",
        "colab": {
          "base_uri": "https://localhost:8080/",
          "height": 395
        },
        "outputId": "5470d204-60af-437e-a4c4-215be02c2c69"
      },
      "source": [
        "plt.figure(figsize=(16,6))\n",
        "sns.heatmap(salary_df.corr(),annot=True,cmap='OrRd')"
      ],
      "execution_count": 152,
      "outputs": [
        {
          "output_type": "execute_result",
          "data": {
            "text/plain": [
              "<matplotlib.axes._subplots.AxesSubplot at 0x7f95e80795d0>"
            ]
          },
          "metadata": {
            "tags": []
          },
          "execution_count": 152
        },
        {
          "output_type": "display_data",
          "data": {
            "image/png": "[encoded data removed]",
            "text/plain": [
              "<Figure size 1152x432 with 2 Axes>"
            ]
          },
          "metadata": {
            "tags": [],
            "needs_background": "light"
          }
        }
      ]
    },
    {
      "cell_type": "code",
      "metadata": {
        "id": "HKnTct6098gO",
        "colab": {
          "base_uri": "https://localhost:8080/",
          "height": 421
        },
        "outputId": "711f595a-57a1-4fe3-92be-53914fc3526e"
      },
      "source": [
        "# Plot customer's annual salary distribution \n",
        "plt.figure(figsize = (10, 5))\n",
        "sns.distplot(salary_df.Annual_salary)\n",
        "plt.title(\"Distribution of customers' annual salary\")\n",
        "plt.xlabel(\"Annual salary\")"
      ],
      "execution_count": 153,
      "outputs": [
        {
          "output_type": "stream",
          "text": [
            "/usr/local/lib/python3.7/dist-packages/seaborn/distributions.py:2557: FutureWarning: `distplot` is a deprecated function and will be removed in a future version. Please adapt your code to use either `displot` (a figure-level function with similar flexibility) or `histplot` (an axes-level function for histograms).\n",
            "  warnings.warn(msg, FutureWarning)\n"
          ],
          "name": "stderr"
        },
        {
          "output_type": "execute_result",
          "data": {
            "text/plain": [
              "Text(0.5, 0, 'Annual salary')"
            ]
          },
          "metadata": {
            "tags": []
          },
          "execution_count": 153
        },
        {
          "output_type": "display_data",
          "data": {
            "image/png": "[encoded data removed]",
            "text/plain": [
              "<Figure size 720x360 with 1 Axes>"
            ]
          },
          "metadata": {
            "tags": [],
            "needs_background": "light"
          }
        }
      ]
    },
    {
      "cell_type": "markdown",
      "metadata": {
        "id": "laKdpw7UTHz6"
      },
      "source": [
        "# Predictor variables"
      ]
    },
    {
      "cell_type": "code",
      "metadata": {
        "id": "HWJHYca-98c2",
        "colab": {
          "base_uri": "https://localhost:8080/"
        },
        "outputId": "af8d1c26-0c4e-463c-faeb-f54305cdd9d3"
      },
      "source": [
        "# Unique customer id's \n",
        "unique_id = data.customer_id.unique()\n",
        "len(unique_id)"
      ],
      "execution_count": 154,
      "outputs": [
        {
          "output_type": "execute_result",
          "data": {
            "text/plain": [
              "100"
            ]
          },
          "metadata": {
            "tags": []
          },
          "execution_count": 154
        }
      ]
    },
    {
      "cell_type": "code",
      "metadata": {
        "id": "2vLogb8P98au",
        "colab": {
          "base_uri": "https://localhost:8080/"
        },
        "outputId": "733963c9-9f3c-43b0-c579-ab62ef6ad639"
      },
      "source": [
        "unique_id[:5]"
      ],
      "execution_count": 155,
      "outputs": [
        {
          "output_type": "execute_result",
          "data": {
            "text/plain": [
              "array(['CUS-2487424745', 'CUS-2142601169', 'CUS-1614226872',\n",
              "       'CUS-2688605418', 'CUS-4123612273'], dtype=object)"
            ]
          },
          "metadata": {
            "tags": []
          },
          "execution_count": 155
        }
      ]
    },
    {
      "cell_type": "code",
      "metadata": {
        "id": "Day0HtH098XW",
        "colab": {
          "base_uri": "https://localhost:8080/"
        },
        "outputId": "ceff63e6-b670-4eb2-e83a-95a99296acfe"
      },
      "source": [
        "avg_weekly_trans = []\n",
        "for i in unique_id:\n",
        "    array = data.loc[data.customer_id == i, \"date\"]\n",
        "    avg_weekly_trans.append(round(len(array)/array.nunique()*7))\n",
        "avg_weekly_trans[:5]"
      ],
      "execution_count": 156,
      "outputs": [
        {
          "output_type": "execute_result",
          "data": {
            "text/plain": [
              "[48, 29, 24, 14, 21]"
            ]
          },
          "metadata": {
            "tags": []
          },
          "execution_count": 156
        }
      ]
    },
    {
      "cell_type": "code",
      "metadata": {
        "id": "JhC44Q7M98VY",
        "colab": {
          "base_uri": "https://localhost:8080/"
        },
        "outputId": "9dfaf65d-ce6c-4c80-f82e-f84ee9be0979"
      },
      "source": [
        "max_amount = []\n",
        "for i in unique_id:\n",
        "    array = data.loc[data.customer_id == i, \"amount\"]\n",
        "    max_amount.append(max(array))\n",
        "max_amount[:5]"
      ],
      "execution_count": 157,
      "outputs": [
        {
          "output_type": "execute_result",
          "data": {
            "text/plain": [
              "[1452.21, 2349.55, 892.09, 2320.3, 1068.04]"
            ]
          },
          "metadata": {
            "tags": []
          },
          "execution_count": 157
        }
      ]
    },
    {
      "cell_type": "code",
      "metadata": {
        "id": "AJND6rm198Tp",
        "colab": {
          "base_uri": "https://localhost:8080/"
        },
        "outputId": "a310ffee-6df2-4f35-8797-6954cfd43425"
      },
      "source": [
        "no_large_trans = []\n",
        "for i in unique_id:\n",
        "    count = 0\n",
        "    array = data.loc[data.customer_id == i, \"amount\"]\n",
        "    for amount in array:\n",
        "        if amount >100:\n",
        "            count += 1\n",
        "    no_large_trans.append(count)\n",
        "no_large_trans[:5]"
      ],
      "execution_count": 158,
      "outputs": [
        {
          "output_type": "execute_result",
          "data": {
            "text/plain": [
              "[22, 23, 22, 25, 32]"
            ]
          },
          "metadata": {
            "tags": []
          },
          "execution_count": 158
        }
      ]
    },
    {
      "cell_type": "code",
      "metadata": {
        "id": "Tuta1GIw98R6",
        "colab": {
          "base_uri": "https://localhost:8080/"
        },
        "outputId": "8bc62206-5c29-4f9e-b600-41b0c44b98ac"
      },
      "source": [
        "no_of_days_with_tans = []\n",
        "for i in unique_id:\n",
        "  array = data.loc[data.customer_id == i,'date']\n",
        "  no_of_days_with_tans.append(array.nunique())\n",
        "no_of_days_with_tans[:5]"
      ],
      "execution_count": 159,
      "outputs": [
        {
          "output_type": "execute_result",
          "data": {
            "text/plain": [
              "[85, 74, 76, 63, 44]"
            ]
          },
          "metadata": {
            "tags": []
          },
          "execution_count": 159
        }
      ]
    },
    {
      "cell_type": "code",
      "metadata": {
        "id": "4otoMmZv98QH",
        "colab": {
          "base_uri": "https://localhost:8080/"
        },
        "outputId": "945bae9b-8469-4eb6-b157-27c9867bf219"
      },
      "source": [
        "avg_trans_amt = []\n",
        "for i in unique_id:\n",
        "  array = data.loc[data.customer_id == i,'amount']\n",
        "  avg_trans_amt.append(array.mean())\n",
        "avg_trans_amt[:5]"
      ],
      "execution_count": 160,
      "outputs": [
        {
          "output_type": "execute_result",
          "data": {
            "text/plain": [
              "[45.34877162629756,\n",
              " 78.20610561056101,\n",
              " 74.46501930501928,\n",
              " 159.3041860465116,\n",
              " 166.50835820895517]"
            ]
          },
          "metadata": {
            "tags": []
          },
          "execution_count": 160
        }
      ]
    },
    {
      "cell_type": "code",
      "metadata": {
        "colab": {
          "base_uri": "https://localhost:8080/"
        },
        "id": "xS0s2qI3V-tb",
        "outputId": "2620b6eb-bccf-4ebc-e467-8e693628a62c"
      },
      "source": [
        "median_balance = []\n",
        "for i in unique_id:\n",
        "    array = data.loc[data.customer_id == i, \"balance\"]\n",
        "    median_balance.append(array.median())\n",
        "median_balance[:5]"
      ],
      "execution_count": 161,
      "outputs": [
        {
          "output_type": "execute_result",
          "data": {
            "text/plain": [
              "[1580.4, 1132.66, 3618.5, 5616.63, 6162.45]"
            ]
          },
          "metadata": {
            "tags": []
          },
          "execution_count": 161
        }
      ]
    },
    {
      "cell_type": "code",
      "metadata": {
        "id": "aINqj8tf98Ne",
        "colab": {
          "base_uri": "https://localhost:8080/"
        },
        "outputId": "d133716e-3f53-4c96-f63a-d4135c29eb06"
      },
      "source": [
        "state = []\n",
        "for i in unique_id:\n",
        "  array = data.loc[data.customer_id == i,\"merchant_state\"]\n",
        "  state.append(mode(array))\n",
        "state[:5]"
      ],
      "execution_count": 162,
      "outputs": [
        {
          "output_type": "execute_result",
          "data": {
            "text/plain": [
              "['QLD', 'NSW', 'QLD', 'NSW', 'VIC']"
            ]
          },
          "metadata": {
            "tags": []
          },
          "execution_count": 162
        }
      ]
    },
    {
      "cell_type": "code",
      "metadata": {
        "id": "AMZIGXjH98Lh",
        "colab": {
          "base_uri": "https://localhost:8080/"
        },
        "outputId": "7cc9fc28-75d3-46ed-8ed4-95b785499aff"
      },
      "source": [
        "age = []\n",
        "for i in unique_id:\n",
        "    array = data.loc[data.customer_id == i, \"age\"]\n",
        "    age.append(mode(array))\n",
        "age[:5]"
      ],
      "execution_count": 163,
      "outputs": [
        {
          "output_type": "execute_result",
          "data": {
            "text/plain": [
              "[26, 38, 40, 20, 43]"
            ]
          },
          "metadata": {
            "tags": []
          },
          "execution_count": 163
        }
      ]
    },
    {
      "cell_type": "code",
      "metadata": {
        "id": "UChaBPPs98Jw",
        "colab": {
          "base_uri": "https://localhost:8080/"
        },
        "outputId": "02919e39-bda1-431c-b23f-00e8bdbd57f3"
      },
      "source": [
        "gender = []\n",
        "for i in unique_id:\n",
        "    array = data.loc[data.customer_id == i, \"gender\"]\n",
        "    gender.append(mode(array))\n",
        "gender[:5]"
      ],
      "execution_count": 164,
      "outputs": [
        {
          "output_type": "execute_result",
          "data": {
            "text/plain": [
              "['F', 'M', 'F', 'M', 'F']"
            ]
          },
          "metadata": {
            "tags": []
          },
          "execution_count": 164
        }
      ]
    },
    {
      "cell_type": "code",
      "metadata": {
        "id": "CtJrybGA98Hu",
        "colab": {
          "base_uri": "https://localhost:8080/",
          "height": 204
        },
        "outputId": "361acf88-ea18-4094-90c1-8abd58edb2fb"
      },
      "source": [
        "# Predictor variables \n",
        "features_df = pd.DataFrame({\"customer_id\": unique_id, \n",
        "                            \"avg_no_weekly_trans\": avg_weekly_trans, \n",
        "                            \"max_amount\": max_amount, \n",
        "                            \"no_large_trans\": no_large_trans,\n",
        "                            \"avg_trans_amount\": avg_trans_amt,\n",
        "                            \"median_balance\": median_balance, \n",
        "                            \"state\": state,\n",
        "                            \"age\": age,\n",
        "                            \"gender\": gender})\n",
        "features_df.head()"
      ],
      "execution_count": 165,
      "outputs": [
        {
          "output_type": "execute_result",
          "data": {
            "text/html": [
              "<div>\n",
              "<style scoped>\n",
              "    .dataframe tbody tr th:only-of-type {\n",
              "        vertical-align: middle;\n",
              "    }\n",
              "\n",
              "    .dataframe tbody tr th {\n",
              "        vertical-align: top;\n",
              "    }\n",
              "\n",
              "    .dataframe thead th {\n",
              "        text-align: right;\n",
              "    }\n",
              "</style>\n",
              "<table border=\"1\" class=\"dataframe\">\n",
              "  <thead>\n",
              "    <tr style=\"text-align: right;\">\n",
              "      <th></th>\n",
              "      <th>customer_id</th>\n",
              "      <th>avg_no_weekly_trans</th>\n",
              "      <th>max_amount</th>\n",
              "      <th>no_large_trans</th>\n",
              "      <th>avg_trans_amount</th>\n",
              "      <th>median_balance</th>\n",
              "      <th>state</th>\n",
              "      <th>age</th>\n",
              "      <th>gender</th>\n",
              "    </tr>\n",
              "  </thead>\n",
              "  <tbody>\n",
              "    <tr>\n",
              "      <th>0</th>\n",
              "      <td>CUS-2487424745</td>\n",
              "      <td>48</td>\n",
              "      <td>1452.21</td>\n",
              "      <td>22</td>\n",
              "      <td>45.348772</td>\n",
              "      <td>1580.40</td>\n",
              "      <td>QLD</td>\n",
              "      <td>26</td>\n",
              "      <td>F</td>\n",
              "    </tr>\n",
              "    <tr>\n",
              "      <th>1</th>\n",
              "      <td>CUS-2142601169</td>\n",
              "      <td>29</td>\n",
              "      <td>2349.55</td>\n",
              "      <td>23</td>\n",
              "      <td>78.206106</td>\n",
              "      <td>1132.66</td>\n",
              "      <td>NSW</td>\n",
              "      <td>38</td>\n",
              "      <td>M</td>\n",
              "    </tr>\n",
              "    <tr>\n",
              "      <th>2</th>\n",
              "      <td>CUS-1614226872</td>\n",
              "      <td>24</td>\n",
              "      <td>892.09</td>\n",
              "      <td>22</td>\n",
              "      <td>74.465019</td>\n",
              "      <td>3618.50</td>\n",
              "      <td>QLD</td>\n",
              "      <td>40</td>\n",
              "      <td>F</td>\n",
              "    </tr>\n",
              "    <tr>\n",
              "      <th>3</th>\n",
              "      <td>CUS-2688605418</td>\n",
              "      <td>14</td>\n",
              "      <td>2320.30</td>\n",
              "      <td>25</td>\n",
              "      <td>159.304186</td>\n",
              "      <td>5616.63</td>\n",
              "      <td>NSW</td>\n",
              "      <td>20</td>\n",
              "      <td>M</td>\n",
              "    </tr>\n",
              "    <tr>\n",
              "      <th>4</th>\n",
              "      <td>CUS-4123612273</td>\n",
              "      <td>21</td>\n",
              "      <td>1068.04</td>\n",
              "      <td>32</td>\n",
              "      <td>166.508358</td>\n",
              "      <td>6162.45</td>\n",
              "      <td>VIC</td>\n",
              "      <td>43</td>\n",
              "      <td>F</td>\n",
              "    </tr>\n",
              "  </tbody>\n",
              "</table>\n",
              "</div>"
            ],
            "text/plain": [
              "      customer_id  avg_no_weekly_trans  max_amount  ...  state  age  gender\n",
              "0  CUS-2487424745                   48     1452.21  ...    QLD   26       F\n",
              "1  CUS-2142601169                   29     2349.55  ...    NSW   38       M\n",
              "2  CUS-1614226872                   24      892.09  ...    QLD   40       F\n",
              "3  CUS-2688605418                   14     2320.30  ...    NSW   20       M\n",
              "4  CUS-4123612273                   21     1068.04  ...    VIC   43       F\n",
              "\n",
              "[5 rows x 9 columns]"
            ]
          },
          "metadata": {
            "tags": []
          },
          "execution_count": 165
        }
      ]
    },
    {
      "cell_type": "code",
      "metadata": {
        "id": "kGJI-f8y98FW",
        "colab": {
          "base_uri": "https://localhost:8080/",
          "height": 204
        },
        "outputId": "22a69e0f-09f5-4d6a-ccf9-6e19e0af216f"
      },
      "source": [
        "# Concat annual salary column to features dataframe  \n",
        "df = pd.concat([features_df, salary_df.Annual_salary], axis = 1)\n",
        "df.head()"
      ],
      "execution_count": 166,
      "outputs": [
        {
          "output_type": "execute_result",
          "data": {
            "text/html": [
              "<div>\n",
              "<style scoped>\n",
              "    .dataframe tbody tr th:only-of-type {\n",
              "        vertical-align: middle;\n",
              "    }\n",
              "\n",
              "    .dataframe tbody tr th {\n",
              "        vertical-align: top;\n",
              "    }\n",
              "\n",
              "    .dataframe thead th {\n",
              "        text-align: right;\n",
              "    }\n",
              "</style>\n",
              "<table border=\"1\" class=\"dataframe\">\n",
              "  <thead>\n",
              "    <tr style=\"text-align: right;\">\n",
              "      <th></th>\n",
              "      <th>customer_id</th>\n",
              "      <th>avg_no_weekly_trans</th>\n",
              "      <th>max_amount</th>\n",
              "      <th>no_large_trans</th>\n",
              "      <th>avg_trans_amount</th>\n",
              "      <th>median_balance</th>\n",
              "      <th>state</th>\n",
              "      <th>age</th>\n",
              "      <th>gender</th>\n",
              "      <th>Annual_salary</th>\n",
              "    </tr>\n",
              "  </thead>\n",
              "  <tbody>\n",
              "    <tr>\n",
              "      <th>0</th>\n",
              "      <td>CUS-2487424745</td>\n",
              "      <td>48</td>\n",
              "      <td>1452.21</td>\n",
              "      <td>22</td>\n",
              "      <td>45.348772</td>\n",
              "      <td>1580.40</td>\n",
              "      <td>QLD</td>\n",
              "      <td>26</td>\n",
              "      <td>F</td>\n",
              "      <td>52891.852500</td>\n",
              "    </tr>\n",
              "    <tr>\n",
              "      <th>1</th>\n",
              "      <td>CUS-2142601169</td>\n",
              "      <td>29</td>\n",
              "      <td>2349.55</td>\n",
              "      <td>23</td>\n",
              "      <td>78.206106</td>\n",
              "      <td>1132.66</td>\n",
              "      <td>NSW</td>\n",
              "      <td>38</td>\n",
              "      <td>M</td>\n",
              "      <td>52289.711786</td>\n",
              "    </tr>\n",
              "    <tr>\n",
              "      <th>2</th>\n",
              "      <td>CUS-1614226872</td>\n",
              "      <td>24</td>\n",
              "      <td>892.09</td>\n",
              "      <td>22</td>\n",
              "      <td>74.465019</td>\n",
              "      <td>3618.50</td>\n",
              "      <td>QLD</td>\n",
              "      <td>40</td>\n",
              "      <td>F</td>\n",
              "      <td>46547.981786</td>\n",
              "    </tr>\n",
              "    <tr>\n",
              "      <th>3</th>\n",
              "      <td>CUS-2688605418</td>\n",
              "      <td>14</td>\n",
              "      <td>2320.30</td>\n",
              "      <td>25</td>\n",
              "      <td>159.304186</td>\n",
              "      <td>5616.63</td>\n",
              "      <td>NSW</td>\n",
              "      <td>20</td>\n",
              "      <td>M</td>\n",
              "      <td>60534.969643</td>\n",
              "    </tr>\n",
              "    <tr>\n",
              "      <th>4</th>\n",
              "      <td>CUS-4123612273</td>\n",
              "      <td>21</td>\n",
              "      <td>1068.04</td>\n",
              "      <td>32</td>\n",
              "      <td>166.508358</td>\n",
              "      <td>6162.45</td>\n",
              "      <td>VIC</td>\n",
              "      <td>43</td>\n",
              "      <td>F</td>\n",
              "      <td>55728.801429</td>\n",
              "    </tr>\n",
              "  </tbody>\n",
              "</table>\n",
              "</div>"
            ],
            "text/plain": [
              "      customer_id  avg_no_weekly_trans  max_amount  ...  age  gender  Annual_salary\n",
              "0  CUS-2487424745                   48     1452.21  ...   26       F   52891.852500\n",
              "1  CUS-2142601169                   29     2349.55  ...   38       M   52289.711786\n",
              "2  CUS-1614226872                   24      892.09  ...   40       F   46547.981786\n",
              "3  CUS-2688605418                   14     2320.30  ...   20       M   60534.969643\n",
              "4  CUS-4123612273                   21     1068.04  ...   43       F   55728.801429\n",
              "\n",
              "[5 rows x 10 columns]"
            ]
          },
          "metadata": {
            "tags": []
          },
          "execution_count": 166
        }
      ]
    },
    {
      "cell_type": "code",
      "metadata": {
        "id": "Do__SGhu98Cv"
      },
      "source": [
        "df.replace({'M':1},inplace=True)\n",
        "df.replace({'F':0},inplace=True)"
      ],
      "execution_count": 167,
      "outputs": []
    },
    {
      "cell_type": "code",
      "metadata": {
        "colab": {
          "base_uri": "https://localhost:8080/",
          "height": 420
        },
        "id": "v6_nZbDDYxE7",
        "outputId": "e603c650-4414-4b01-bed5-6d7e295559bb"
      },
      "source": [
        "df.head(100)"
      ],
      "execution_count": 168,
      "outputs": [
        {
          "output_type": "execute_result",
          "data": {
            "text/html": [
              "<div>\n",
              "<style scoped>\n",
              "    .dataframe tbody tr th:only-of-type {\n",
              "        vertical-align: middle;\n",
              "    }\n",
              "\n",
              "    .dataframe tbody tr th {\n",
              "        vertical-align: top;\n",
              "    }\n",
              "\n",
              "    .dataframe thead th {\n",
              "        text-align: right;\n",
              "    }\n",
              "</style>\n",
              "<table border=\"1\" class=\"dataframe\">\n",
              "  <thead>\n",
              "    <tr style=\"text-align: right;\">\n",
              "      <th></th>\n",
              "      <th>customer_id</th>\n",
              "      <th>avg_no_weekly_trans</th>\n",
              "      <th>max_amount</th>\n",
              "      <th>no_large_trans</th>\n",
              "      <th>avg_trans_amount</th>\n",
              "      <th>median_balance</th>\n",
              "      <th>state</th>\n",
              "      <th>age</th>\n",
              "      <th>gender</th>\n",
              "      <th>Annual_salary</th>\n",
              "    </tr>\n",
              "  </thead>\n",
              "  <tbody>\n",
              "    <tr>\n",
              "      <th>0</th>\n",
              "      <td>CUS-2487424745</td>\n",
              "      <td>48</td>\n",
              "      <td>1452.21</td>\n",
              "      <td>22</td>\n",
              "      <td>45.348772</td>\n",
              "      <td>1580.40</td>\n",
              "      <td>QLD</td>\n",
              "      <td>26</td>\n",
              "      <td>0</td>\n",
              "      <td>52891.852500</td>\n",
              "    </tr>\n",
              "    <tr>\n",
              "      <th>1</th>\n",
              "      <td>CUS-2142601169</td>\n",
              "      <td>29</td>\n",
              "      <td>2349.55</td>\n",
              "      <td>23</td>\n",
              "      <td>78.206106</td>\n",
              "      <td>1132.66</td>\n",
              "      <td>NSW</td>\n",
              "      <td>38</td>\n",
              "      <td>1</td>\n",
              "      <td>52289.711786</td>\n",
              "    </tr>\n",
              "    <tr>\n",
              "      <th>2</th>\n",
              "      <td>CUS-1614226872</td>\n",
              "      <td>24</td>\n",
              "      <td>892.09</td>\n",
              "      <td>22</td>\n",
              "      <td>74.465019</td>\n",
              "      <td>3618.50</td>\n",
              "      <td>QLD</td>\n",
              "      <td>40</td>\n",
              "      <td>0</td>\n",
              "      <td>46547.981786</td>\n",
              "    </tr>\n",
              "    <tr>\n",
              "      <th>3</th>\n",
              "      <td>CUS-2688605418</td>\n",
              "      <td>14</td>\n",
              "      <td>2320.30</td>\n",
              "      <td>25</td>\n",
              "      <td>159.304186</td>\n",
              "      <td>5616.63</td>\n",
              "      <td>NSW</td>\n",
              "      <td>20</td>\n",
              "      <td>1</td>\n",
              "      <td>60534.969643</td>\n",
              "    </tr>\n",
              "    <tr>\n",
              "      <th>4</th>\n",
              "      <td>CUS-4123612273</td>\n",
              "      <td>21</td>\n",
              "      <td>1068.04</td>\n",
              "      <td>32</td>\n",
              "      <td>166.508358</td>\n",
              "      <td>6162.45</td>\n",
              "      <td>VIC</td>\n",
              "      <td>43</td>\n",
              "      <td>0</td>\n",
              "      <td>55728.801429</td>\n",
              "    </tr>\n",
              "    <tr>\n",
              "      <th>...</th>\n",
              "      <td>...</td>\n",
              "      <td>...</td>\n",
              "      <td>...</td>\n",
              "      <td>...</td>\n",
              "      <td>...</td>\n",
              "      <td>...</td>\n",
              "      <td>...</td>\n",
              "      <td>...</td>\n",
              "      <td>...</td>\n",
              "      <td>...</td>\n",
              "    </tr>\n",
              "    <tr>\n",
              "      <th>95</th>\n",
              "      <td>CUS-2505971401</td>\n",
              "      <td>14</td>\n",
              "      <td>1946.57</td>\n",
              "      <td>22</td>\n",
              "      <td>291.293333</td>\n",
              "      <td>11410.18</td>\n",
              "      <td>NaN</td>\n",
              "      <td>40</td>\n",
              "      <td>0</td>\n",
              "      <td>101569.241786</td>\n",
              "    </tr>\n",
              "    <tr>\n",
              "      <th>96</th>\n",
              "      <td>CUS-2819545904</td>\n",
              "      <td>11</td>\n",
              "      <td>3231.26</td>\n",
              "      <td>27</td>\n",
              "      <td>448.658413</td>\n",
              "      <td>110017.62</td>\n",
              "      <td>NaN</td>\n",
              "      <td>42</td>\n",
              "      <td>1</td>\n",
              "      <td>84301.265357</td>\n",
              "    </tr>\n",
              "    <tr>\n",
              "      <th>97</th>\n",
              "      <td>CUS-3395687666</td>\n",
              "      <td>8</td>\n",
              "      <td>1757.81</td>\n",
              "      <td>15</td>\n",
              "      <td>355.400250</td>\n",
              "      <td>16758.60</td>\n",
              "      <td>NaN</td>\n",
              "      <td>42</td>\n",
              "      <td>1</td>\n",
              "      <td>45860.007321</td>\n",
              "    </tr>\n",
              "    <tr>\n",
              "      <th>98</th>\n",
              "      <td>CUS-1147642491</td>\n",
              "      <td>15</td>\n",
              "      <td>1711.39</td>\n",
              "      <td>31</td>\n",
              "      <td>245.600169</td>\n",
              "      <td>8473.43</td>\n",
              "      <td>NSW</td>\n",
              "      <td>34</td>\n",
              "      <td>0</td>\n",
              "      <td>89297.885357</td>\n",
              "    </tr>\n",
              "    <tr>\n",
              "      <th>99</th>\n",
              "      <td>CUS-261674136</td>\n",
              "      <td>16</td>\n",
              "      <td>4405.30</td>\n",
              "      <td>14</td>\n",
              "      <td>274.523358</td>\n",
              "      <td>16802.48</td>\n",
              "      <td>NaN</td>\n",
              "      <td>29</td>\n",
              "      <td>1</td>\n",
              "      <td>114931.130357</td>\n",
              "    </tr>\n",
              "  </tbody>\n",
              "</table>\n",
              "<p>100 rows × 10 columns</p>\n",
              "</div>"
            ],
            "text/plain": [
              "       customer_id  avg_no_weekly_trans  max_amount  ...  age  gender  Annual_salary\n",
              "0   CUS-2487424745                   48     1452.21  ...   26       0   52891.852500\n",
              "1   CUS-2142601169                   29     2349.55  ...   38       1   52289.711786\n",
              "2   CUS-1614226872                   24      892.09  ...   40       0   46547.981786\n",
              "3   CUS-2688605418                   14     2320.30  ...   20       1   60534.969643\n",
              "4   CUS-4123612273                   21     1068.04  ...   43       0   55728.801429\n",
              "..             ...                  ...         ...  ...  ...     ...            ...\n",
              "95  CUS-2505971401                   14     1946.57  ...   40       0  101569.241786\n",
              "96  CUS-2819545904                   11     3231.26  ...   42       1   84301.265357\n",
              "97  CUS-3395687666                    8     1757.81  ...   42       1   45860.007321\n",
              "98  CUS-1147642491                   15     1711.39  ...   34       0   89297.885357\n",
              "99   CUS-261674136                   16     4405.30  ...   29       1  114931.130357\n",
              "\n",
              "[100 rows x 10 columns]"
            ]
          },
          "metadata": {
            "tags": []
          },
          "execution_count": 168
        }
      ]
    },
    {
      "cell_type": "code",
      "metadata": {
        "colab": {
          "base_uri": "https://localhost:8080/"
        },
        "id": "m6FP6DZtaTVn",
        "outputId": "a676a6b4-4ac5-4af1-c076-5b94eaccea22"
      },
      "source": [
        "df.shape"
      ],
      "execution_count": 169,
      "outputs": [
        {
          "output_type": "execute_result",
          "data": {
            "text/plain": [
              "(100, 10)"
            ]
          },
          "metadata": {
            "tags": []
          },
          "execution_count": 169
        }
      ]
    },
    {
      "cell_type": "code",
      "metadata": {
        "colab": {
          "base_uri": "https://localhost:8080/"
        },
        "id": "qZmwsFC5bV9b",
        "outputId": "286fe3ef-fe73-416c-cb1d-2884667bd4a3"
      },
      "source": [
        "df.isnull().sum()"
      ],
      "execution_count": 172,
      "outputs": [
        {
          "output_type": "execute_result",
          "data": {
            "text/plain": [
              "customer_id             0\n",
              "avg_no_weekly_trans     0\n",
              "max_amount              0\n",
              "no_large_trans          0\n",
              "avg_trans_amount        0\n",
              "median_balance          0\n",
              "state                  43\n",
              "age                     0\n",
              "gender                  0\n",
              "Annual_salary           0\n",
              "dtype: int64"
            ]
          },
          "metadata": {
            "tags": []
          },
          "execution_count": 172
        }
      ]
    },
    {
      "cell_type": "code",
      "metadata": {
        "colab": {
          "base_uri": "https://localhost:8080/",
          "height": 600
        },
        "id": "1OuraApFYxAi",
        "outputId": "00d6a393-9884-4331-899d-a1c7bc8db9ce"
      },
      "source": [
        "plt.figure(figsize=(16,8))\n",
        "sns.heatmap(df.isnull(),cmap='crest')"
      ],
      "execution_count": 170,
      "outputs": [
        {
          "output_type": "execute_result",
          "data": {
            "text/plain": [
              "<matplotlib.axes._subplots.AxesSubplot at 0x7f95e762bd90>"
            ]
          },
          "metadata": {
            "tags": []
          },
          "execution_count": 170
        },
        {
          "output_type": "display_data",
          "data": {
            "image/png": "[encoded data removed]",
            "text/plain": [
              "<Figure size 1152x576 with 2 Axes>"
            ]
          },
          "metadata": {
            "tags": [],
            "needs_background": "light"
          }
        }
      ]
    },
    {
      "cell_type": "code",
      "metadata": {
        "colab": {
          "base_uri": "https://localhost:8080/",
          "height": 569
        },
        "id": "pADo527gYw7g",
        "outputId": "45935d69-088d-4656-e00f-ff063606f446"
      },
      "source": [
        "plt.figure(figsize=(12, 8))\n",
        "sns.regplot(\"avg_no_weekly_trans\", \"Annual_salary\", fit_reg=True, data=df)"
      ],
      "execution_count": 174,
      "outputs": [
        {
          "output_type": "stream",
          "text": [
            "/usr/local/lib/python3.7/dist-packages/seaborn/_decorators.py:43: FutureWarning: Pass the following variables as keyword args: x, y. From version 0.12, the only valid positional argument will be `data`, and passing other arguments without an explicit keyword will result in an error or misinterpretation.\n",
            "  FutureWarning\n"
          ],
          "name": "stderr"
        },
        {
          "output_type": "execute_result",
          "data": {
            "text/plain": [
              "<matplotlib.axes._subplots.AxesSubplot at 0x7f95e74b73d0>"
            ]
          },
          "metadata": {
            "tags": []
          },
          "execution_count": 174
        },
        {
          "output_type": "display_data",
          "data": {
            "image/png": "[encoded data removed]",
            "text/plain": [
              "<Figure size 864x576 with 1 Axes>"
            ]
          },
          "metadata": {
            "tags": [],
            "needs_background": "light"
          }
        }
      ]
    },
    {
      "cell_type": "code",
      "metadata": {
        "colab": {
          "base_uri": "https://localhost:8080/",
          "height": 569
        },
        "id": "DX-tyT1GYw5L",
        "outputId": "6759d34a-e704-4d45-aaa8-eda1a86b2cf1"
      },
      "source": [
        "plt.figure(figsize=(12,8))\n",
        "sns.regplot('median_balance','age',data=df)"
      ],
      "execution_count": 177,
      "outputs": [
        {
          "output_type": "stream",
          "text": [
            "/usr/local/lib/python3.7/dist-packages/seaborn/_decorators.py:43: FutureWarning: Pass the following variables as keyword args: x, y. From version 0.12, the only valid positional argument will be `data`, and passing other arguments without an explicit keyword will result in an error or misinterpretation.\n",
            "  FutureWarning\n"
          ],
          "name": "stderr"
        },
        {
          "output_type": "execute_result",
          "data": {
            "text/plain": [
              "<matplotlib.axes._subplots.AxesSubplot at 0x7f95e7302d10>"
            ]
          },
          "metadata": {
            "tags": []
          },
          "execution_count": 177
        },
        {
          "output_type": "display_data",
          "data": {
            "image/png": "[encoded data removed]",
            "text/plain": [
              "<Figure size 864x576 with 1 Axes>"
            ]
          },
          "metadata": {
            "tags": [],
            "needs_background": "light"
          }
        }
      ]
    },
    {
      "cell_type": "code",
      "metadata": {
        "colab": {
          "base_uri": "https://localhost:8080/",
          "height": 568
        },
        "id": "DLgHKag2Yw2k",
        "outputId": "5bade104-363b-4f41-af0c-3cd1dab04a82"
      },
      "source": [
        "plt.figure(figsize=(12,8))\n",
        "sns.regplot('max_amount','Annual_salary',fit_reg = True,data=df)"
      ],
      "execution_count": 179,
      "outputs": [
        {
          "output_type": "stream",
          "text": [
            "/usr/local/lib/python3.7/dist-packages/seaborn/_decorators.py:43: FutureWarning: Pass the following variables as keyword args: x, y. From version 0.12, the only valid positional argument will be `data`, and passing other arguments without an explicit keyword will result in an error or misinterpretation.\n",
            "  FutureWarning\n"
          ],
          "name": "stderr"
        },
        {
          "output_type": "execute_result",
          "data": {
            "text/plain": [
              "<matplotlib.axes._subplots.AxesSubplot at 0x7f95e72f4a90>"
            ]
          },
          "metadata": {
            "tags": []
          },
          "execution_count": 179
        },
        {
          "output_type": "display_data",
          "data": {
            "image/png": "[encoded data removed]",
            "text/plain": [
              "<Figure size 864x576 with 1 Axes>"
            ]
          },
          "metadata": {
            "tags": [],
            "needs_background": "light"
          }
        }
      ]
    },
    {
      "cell_type": "code",
      "metadata": {
        "colab": {
          "base_uri": "https://localhost:8080/",
          "height": 204
        },
        "id": "D8Pk7ol8doYJ",
        "outputId": "38912386-e283-47a4-82aa-db75368a90a9"
      },
      "source": [
        "df.head()"
      ],
      "execution_count": 180,
      "outputs": [
        {
          "output_type": "execute_result",
          "data": {
            "text/html": [
              "<div>\n",
              "<style scoped>\n",
              "    .dataframe tbody tr th:only-of-type {\n",
              "        vertical-align: middle;\n",
              "    }\n",
              "\n",
              "    .dataframe tbody tr th {\n",
              "        vertical-align: top;\n",
              "    }\n",
              "\n",
              "    .dataframe thead th {\n",
              "        text-align: right;\n",
              "    }\n",
              "</style>\n",
              "<table border=\"1\" class=\"dataframe\">\n",
              "  <thead>\n",
              "    <tr style=\"text-align: right;\">\n",
              "      <th></th>\n",
              "      <th>customer_id</th>\n",
              "      <th>avg_no_weekly_trans</th>\n",
              "      <th>max_amount</th>\n",
              "      <th>no_large_trans</th>\n",
              "      <th>avg_trans_amount</th>\n",
              "      <th>median_balance</th>\n",
              "      <th>state</th>\n",
              "      <th>age</th>\n",
              "      <th>gender</th>\n",
              "      <th>Annual_salary</th>\n",
              "    </tr>\n",
              "  </thead>\n",
              "  <tbody>\n",
              "    <tr>\n",
              "      <th>0</th>\n",
              "      <td>CUS-2487424745</td>\n",
              "      <td>48</td>\n",
              "      <td>1452.21</td>\n",
              "      <td>22</td>\n",
              "      <td>45.348772</td>\n",
              "      <td>1580.40</td>\n",
              "      <td>QLD</td>\n",
              "      <td>26</td>\n",
              "      <td>0</td>\n",
              "      <td>52891.852500</td>\n",
              "    </tr>\n",
              "    <tr>\n",
              "      <th>1</th>\n",
              "      <td>CUS-2142601169</td>\n",
              "      <td>29</td>\n",
              "      <td>2349.55</td>\n",
              "      <td>23</td>\n",
              "      <td>78.206106</td>\n",
              "      <td>1132.66</td>\n",
              "      <td>NSW</td>\n",
              "      <td>38</td>\n",
              "      <td>1</td>\n",
              "      <td>52289.711786</td>\n",
              "    </tr>\n",
              "    <tr>\n",
              "      <th>2</th>\n",
              "      <td>CUS-1614226872</td>\n",
              "      <td>24</td>\n",
              "      <td>892.09</td>\n",
              "      <td>22</td>\n",
              "      <td>74.465019</td>\n",
              "      <td>3618.50</td>\n",
              "      <td>QLD</td>\n",
              "      <td>40</td>\n",
              "      <td>0</td>\n",
              "      <td>46547.981786</td>\n",
              "    </tr>\n",
              "    <tr>\n",
              "      <th>3</th>\n",
              "      <td>CUS-2688605418</td>\n",
              "      <td>14</td>\n",
              "      <td>2320.30</td>\n",
              "      <td>25</td>\n",
              "      <td>159.304186</td>\n",
              "      <td>5616.63</td>\n",
              "      <td>NSW</td>\n",
              "      <td>20</td>\n",
              "      <td>1</td>\n",
              "      <td>60534.969643</td>\n",
              "    </tr>\n",
              "    <tr>\n",
              "      <th>4</th>\n",
              "      <td>CUS-4123612273</td>\n",
              "      <td>21</td>\n",
              "      <td>1068.04</td>\n",
              "      <td>32</td>\n",
              "      <td>166.508358</td>\n",
              "      <td>6162.45</td>\n",
              "      <td>VIC</td>\n",
              "      <td>43</td>\n",
              "      <td>0</td>\n",
              "      <td>55728.801429</td>\n",
              "    </tr>\n",
              "  </tbody>\n",
              "</table>\n",
              "</div>"
            ],
            "text/plain": [
              "      customer_id  avg_no_weekly_trans  max_amount  ...  age  gender  Annual_salary\n",
              "0  CUS-2487424745                   48     1452.21  ...   26       0   52891.852500\n",
              "1  CUS-2142601169                   29     2349.55  ...   38       1   52289.711786\n",
              "2  CUS-1614226872                   24      892.09  ...   40       0   46547.981786\n",
              "3  CUS-2688605418                   14     2320.30  ...   20       1   60534.969643\n",
              "4  CUS-4123612273                   21     1068.04  ...   43       0   55728.801429\n",
              "\n",
              "[5 rows x 10 columns]"
            ]
          },
          "metadata": {
            "tags": []
          },
          "execution_count": 180
        }
      ]
    },
    {
      "cell_type": "markdown",
      "metadata": {
        "id": "BG1YNAZIdX_z"
      },
      "source": [
        "#Linear Regression Model\n",
        "\n",
        "---\n",
        "\n"
      ]
    },
    {
      "cell_type": "code",
      "metadata": {
        "colab": {
          "base_uri": "https://localhost:8080/"
        },
        "id": "oOF5KfeXc8UK",
        "outputId": "41f9620c-a894-40f9-a082-2587c48d6613"
      },
      "source": [
        "# X AND Y OF MACHINE LEARNING:-\n",
        "X = df[['age','median_balance','max_amount','avg_no_weekly_trans','no_large_trans','gender']].values\n",
        "\n",
        "Y = df.Annual_salary\n",
        "print(\"X shape: \", X.shape)\n",
        "print(\"Y shape: \", Y.shape)"
      ],
      "execution_count": 183,
      "outputs": [
        {
          "output_type": "stream",
          "text": [
            "X shape:  (100, 6)\n",
            "Y shape:  (100,)\n"
          ],
          "name": "stdout"
        }
      ]
    },
    {
      "cell_type": "code",
      "metadata": {
        "id": "uzwveeOIeATK"
      },
      "source": [
        "X_train,X_test,y_train,y_test = train_test_split(X,Y,test_size=0.3,random_state=42)"
      ],
      "execution_count": 185,
      "outputs": []
    },
    {
      "cell_type": "code",
      "metadata": {
        "id": "X3cKxAuUc8SJ"
      },
      "source": [
        "lr = LinearRegression()"
      ],
      "execution_count": 186,
      "outputs": []
    },
    {
      "cell_type": "code",
      "metadata": {
        "colab": {
          "base_uri": "https://localhost:8080/"
        },
        "id": "ekVybHKyc8QE",
        "outputId": "4ce03747-d3dd-425a-d111-1116a46586a7"
      },
      "source": [
        "lr.fit(X_train,y_train)"
      ],
      "execution_count": 187,
      "outputs": [
        {
          "output_type": "execute_result",
          "data": {
            "text/plain": [
              "LinearRegression(copy_X=True, fit_intercept=True, n_jobs=None, normalize=False)"
            ]
          },
          "metadata": {
            "tags": []
          },
          "execution_count": 187
        }
      ]
    },
    {
      "cell_type": "code",
      "metadata": {
        "id": "TGp-IXxjc8OE"
      },
      "source": [
        "\n",
        "y_pred = lr.predict(X_test)"
      ],
      "execution_count": 190,
      "outputs": []
    },
    {
      "cell_type": "code",
      "metadata": {
        "colab": {
          "base_uri": "https://localhost:8080/"
        },
        "id": "NO41JhUKc8L7",
        "outputId": "635fe1ab-3a6c-457c-e70a-fc70e9de2630"
      },
      "source": [
        "# RMSE\n",
        "print(\"RMSE: \", round(np.sqrt(mean_squared_error(y_pred, y_test))))"
      ],
      "execution_count": 191,
      "outputs": [
        {
          "output_type": "stream",
          "text": [
            "RMSE:  23186\n"
          ],
          "name": "stdout"
        }
      ]
    },
    {
      "cell_type": "code",
      "metadata": {
        "colab": {
          "base_uri": "https://localhost:8080/"
        },
        "id": "UP3KrTT-c8J4",
        "outputId": "20632116-5c6b-4dee-b90f-d27df477e277"
      },
      "source": [
        "print(\"The model predicts salary will be:\")\n",
        "print(round(lr.predict([[35,2145,1402,7,3,0]])[0]))"
      ],
      "execution_count": 206,
      "outputs": [
        {
          "output_type": "stream",
          "text": [
            "The model predicts salary will be:\n",
            "18533\n"
          ],
          "name": "stdout"
        }
      ]
    },
    {
      "cell_type": "markdown",
      "metadata": {
        "id": "ZzHClUDvfYWF"
      },
      "source": [
        "#Decision Tree:-"
      ]
    },
    {
      "cell_type": "code",
      "metadata": {
        "id": "vykfhGqUc8Hh"
      },
      "source": [
        "dtree = DecisionTreeRegressor()\n",
        "dtree.fit(X_train , y_train)\n",
        "tree = dtree.predict(X_test)"
      ],
      "execution_count": 196,
      "outputs": []
    },
    {
      "cell_type": "code",
      "metadata": {
        "colab": {
          "base_uri": "https://localhost:8080/"
        },
        "id": "2Z6o7W2VgUYo",
        "outputId": "88389042-e259-4a70-847a-16dbfb201f78"
      },
      "source": [
        "# Scores using X and Y values for Decission tree\n",
        "dtree.score(X_test, y_test)"
      ],
      "execution_count": 197,
      "outputs": [
        {
          "output_type": "execute_result",
          "data": {
            "text/plain": [
              "0.4257447091265718"
            ]
          },
          "metadata": {
            "tags": []
          },
          "execution_count": 197
        }
      ]
    },
    {
      "cell_type": "code",
      "metadata": {
        "colab": {
          "base_uri": "https://localhost:8080/"
        },
        "id": "v6K5DPmNf_to",
        "outputId": "2c3c728f-693a-4acd-b629-ab37c02a494a"
      },
      "source": [
        "print(\"RMSE: \", round(np.sqrt(mean_squared_error(tree, y_test))))\n",
        "print(\"coefficient of determination\", r2_score(y_test , tree))"
      ],
      "execution_count": 202,
      "outputs": [
        {
          "output_type": "stream",
          "text": [
            "RMSE:  19880\n",
            "coefficient of determination 0.4257447091265718\n"
          ],
          "name": "stdout"
        }
      ]
    },
    {
      "cell_type": "code",
      "metadata": {
        "colab": {
          "base_uri": "https://localhost:8080/"
        },
        "id": "ArrMMuOJg_Rg",
        "outputId": "69bc7d6d-81fd-4fbf-d82d-5620cf85d4bf"
      },
      "source": [
        "print(\"The model predicts salary will be:\")\n",
        "print(round(dtree.predict([[35,2145,1402,7,3,0]]) [0]))"
      ],
      "execution_count": 205,
      "outputs": [
        {
          "output_type": "stream",
          "text": [
            "The model predicts salary will be:\n",
            "18706\n"
          ],
          "name": "stdout"
        }
      ]
    },
    {
      "cell_type": "markdown",
      "metadata": {
        "id": "qLyVLmfngxIA"
      },
      "source": [
        "#Conclusion\n",
        "\n",
        "---\n",
        "The RMSE for both models are over $20,000 and although decision tree performed better than linear regression by having a smaller RMSE, both models still appear to be highly inaccurate. Therefore, it is risky to use them to predict customers' income bracket. More data is required to develop a more reliable model.\n",
        "\n",
        "Nevertheless, one can invest more time into coming up with more features and selecting the best ones using backward elimination by optimising for a specific metric like AIC, however I doubt the result will be materially different as we only have a very limited amount of data (100 salaries) available.\n",
        "\n"
      ]
    }
  ]
}